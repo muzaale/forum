{
 "cells": [
  {
   "cell_type": "markdown",
   "metadata": {},
   "source": [
    "# Methods"
   ]
  },
  {
   "cell_type": "code",
   "execution_count": null,
   "metadata": {
    "tags": [
     "hide-input"
    ]
   },
   "outputs": [],
   "source": [
    "import networkx as nx\n",
    "import matplotlib.pyplot as plt\n",
    "\n",
    "G = nx.DiGraph()\n",
    "G.add_node(\"OPTN\", pos=(-4000, 800))\n",
    "G.add_node(\"NHANES\", pos=(-4000, 0))\n",
    "G.add_node(\"Scenarios\", pos=(-4000, -800))\n",
    "G.add_node(\"CMS\", pos=(0, 400))\n",
    "G.add_node(\"NDI\", pos=(0, -400))\n",
    "G.add_node(\"ESRD\", pos=(4000, 400))\n",
    "G.add_node(\"Death\", pos=(4000, -400))\n",
    "\n",
    "G.add_edges_from([(\"OPTN\", \"CMS\"), (\"OPTN\", \"NDI\")])\n",
    "G.add_edges_from([(\"NHANES\", \"CMS\"), (\"NHANES\", \"NDI\"), (\"Scenarios\", \"NHANES\")])\n",
    "G.add_edges_from([(\"CMS\", \"ESRD\"), (\"NDI\", \"Death\")])\n",
    "\n",
    "pos = nx.get_node_attributes(G, 'pos')\n",
    "labels = {\"OPTN\": \"OPTN\\n(Donors)\",\n",
    "          \"NHANES\": \"NHANES\\n(Nondonors)\",\n",
    "          \"Scenarios\": \"Scenarios\\n(Personalized)\",\n",
    "          \"CMS\": \"CMS\",\n",
    "          \"NDI\": \"NDI\",\n",
    "          \"ESRD\": \"ESRD\",\n",
    "          \"Death\": \"Death\"}\n",
    "\n",
    "# Update color for the \"Scenarios\" node\n",
    "node_colors = [\"lavender\", \"lavender\", \"lightblue\", \"lightgreen\", \"lightgreen\", \"lightpink\", \"lightpink\"]\n",
    "\n",
    "edge_styles = [(\"NHANES\", \"Scenarios\", \"dashed\")]\n",
    "\n",
    "plt.figure(figsize=(8, 8))\n",
    "nx.draw(G, pos, with_labels=False, node_size=15000, node_color=node_colors, linewidths=2, edge_color='black', style='solid')\n",
    "nx.draw_networkx_labels(G, pos, labels, font_size=10, font_weight='bold')\n",
    "nx.draw_networkx_edges(G, pos, edgelist=edge_styles, edge_color='black', style='dashed', width=3)\n",
    "plt.xlim(-5000, 5000)\n",
    "plt.ylim(-1000, 1000)\n",
    "plt.axis(\"off\")\n",
    "plt.show()\n"
   ]
  },
  {
   "cell_type": "markdown",
   "metadata": {},
   "source": [
    "\n",
    "$$\\Large 1-e^{-\\int h_0(t)exp(X\\beta)}$$\n",
    "\n",
    "Where:  \n",
    "- $h_0(t)$ \n",
    "   - Nonparametric hazard for the base-case\n",
    "<br>\n",
    "<br>\n",
    "- $exp(X\\beta)$ \n",
    "   - Maximum-likelihood estimate of the difference (on a log scale) between the hazard for the base-case and the hazard for the specific clinical scenario with explanatory variables $X$\n",
    "<br>\n",
    "<br>\n",
    "- $t$ \n",
    "   - Years of follow-up (tentatively 15y but will update to 30y later in January)."
   ]
  }
 ],
 "metadata": {
  "kernelspec": {
   "display_name": "Python 3",
   "language": "python",
   "name": "python3"
  },
  "language_info": {
   "codemirror_mode": {
    "name": "ipython",
    "version": 3
   },
   "file_extension": ".py",
   "mimetype": "text/x-python",
   "name": "python",
   "nbconvert_exporter": "python",
   "pygments_lexer": "ipython3",
   "version": "3.11.4"
  },
  "widgets": {
   "application/vnd.jupyter.widget-state+json": {
    "state": {},
    "version_major": 2,
    "version_minor": 0
   }
  }
 },
 "nbformat": 4,
 "nbformat_minor": 4
}
